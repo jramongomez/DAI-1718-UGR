{
 "cells": [
  {
   "cell_type": "markdown",
   "metadata": {
    "deletable": true,
    "editable": true
   },
   "source": [
    "# Práctica 1 Python"
   ]
  },
  {
   "cell_type": "markdown",
   "metadata": {
    "deletable": true,
    "editable": true
   },
   "source": [
    "## Juan Ramón Gómez Berzosa"
   ]
  },
  {
   "cell_type": "markdown",
   "metadata": {
    "collapsed": true,
    "deletable": true,
    "editable": true
   },
   "source": [
    "### Problemas sencillos"
   ]
  },
  {
   "cell_type": "markdown",
   "metadata": {
    "deletable": true,
    "editable": true
   },
   "source": [
    "#### Ejercicio 1"
   ]
  },
  {
   "cell_type": "code",
   "execution_count": 2,
   "metadata": {
    "collapsed": false,
    "deletable": true,
    "editable": true,
    "scrolled": true
   },
   "outputs": [],
   "source": [
    "import random\n",
    "\n",
    "def adivinar():\n",
    "    \n",
    "    numeroAleatorio = random.randrange(100) + 1\n",
    "    \n",
    "    print(\"Introduzca un número entre 1 y 100. Tienes 10 intentos\")\n",
    "    numeroIntroducido = int(input())\n",
    "    \n",
    "    numeroIntentos = 1\n",
    "    \n",
    "    while((numeroIntroducido != numeroAleatorio) and (numeroIntentos < 10)):\n",
    "        \n",
    "        if((numeroIntroducido < 1) or (numeroIntroducido > 100)):\n",
    "            print(\"No has introducido un número entre 1 y 100\")\n",
    "        elif(numeroIntroducido < numeroAleatorio):\n",
    "            print(\"El número buscado es mayor\")\n",
    "        elif(numeroIntroducido > numeroAleatorio):\n",
    "            print(\"El número buscado es menor\")\n",
    "        \n",
    "        numeroIntroducido = int(input())\n",
    "        numeroIntentos += 1\n",
    "    \n",
    "    if(numeroIntroducido == numeroAleatorio):\n",
    "        print(\"Has acertado!!!!!!\")\n",
    "    else:\n",
    "        print(\"Has perdido\")\n",
    "\n",
    "\n"
   ]
  },
  {
   "cell_type": "code",
   "execution_count": 3,
   "metadata": {
    "collapsed": false
   },
   "outputs": [
    {
     "name": "stdout",
     "output_type": "stream",
     "text": [
      "Introduzca un número entre 1 y 100. Tienes 10 intentos\n",
      "1\n",
      "El número buscado es mayor\n",
      "2\n",
      "El número buscado es mayor\n",
      "3\n",
      "El número buscado es mayor\n",
      "4\n",
      "El número buscado es mayor\n",
      "5\n",
      "El número buscado es mayor\n",
      "6\n",
      "El número buscado es mayor\n",
      "7\n",
      "El número buscado es mayor\n",
      "8\n",
      "El número buscado es mayor\n",
      "9\n",
      "El número buscado es mayor\n",
      "0\n",
      "Has perdido\n"
     ]
    }
   ],
   "source": [
    "adivinar()"
   ]
  },
  {
   "cell_type": "markdown",
   "metadata": {
    "deletable": true,
    "editable": true
   },
   "source": [
    "#### Ejercicio 2"
   ]
  },
  {
   "cell_type": "code",
   "execution_count": 4,
   "metadata": {
    "collapsed": false,
    "deletable": true,
    "editable": true
   },
   "outputs": [],
   "source": [
    "def generarArrayRandom(n):\n",
    "    \n",
    "    vector = []\n",
    "    for i in range(n):\n",
    "        vector.append(i) \n",
    "    \n",
    "    return vector\n",
    "    "
   ]
  },
  {
   "cell_type": "code",
   "execution_count": 5,
   "metadata": {
    "collapsed": false,
    "deletable": true,
    "editable": true
   },
   "outputs": [],
   "source": [
    "def burbuja(vector):\n",
    "    \n",
    "    i = 2\n",
    "    for i in range(len(vector)):\n",
    "        j= 0\n",
    "        for j in range(len(vector) - 1):\n",
    "            if (vector[j] > vector[j+1]):\n",
    "                aux = vector[j]\n",
    "                vector[j] = vector[j+1]\n",
    "                vector[j+1] = aux\n",
    "    "
   ]
  },
  {
   "cell_type": "code",
   "execution_count": 7,
   "metadata": {
    "collapsed": true,
    "deletable": true,
    "editable": true
   },
   "outputs": [],
   "source": [
    "def seleccion(vector):\n",
    "    i = 1\n",
    "    for i in range(len(vector)-1):\n",
    "        minimo = i\n",
    "        j = i+1\n",
    "        for j in range(len(vector)):\n",
    "            if(vector[j]< vector[minimo]):\n",
    "                minimo = j\n",
    "        aux = vector[i]\n",
    "        vector[i] = vector[minimo]\n",
    "        vector[minimo] = aux\n",
    "\n",
    "        "
   ]
  },
  {
   "cell_type": "code",
   "execution_count": 9,
   "metadata": {
    "collapsed": false
   },
   "outputs": [
    {
     "name": "stdout",
     "output_type": "stream",
     "text": [
      "El tiempo de ejecución del algoritmo de selección ha sido: 8.776549816131592\n",
      "El tiempo de ejecución del algoritmo de burbuja ha sido: 16.474995851516724\n"
     ]
    }
   ],
   "source": [
    "from time import time\n",
    "\n",
    "\n",
    "#Generar vector aleatorio\n",
    "arrayRandom = generarArrayRandom(10000)\n",
    "\n",
    "# Medición algoritmo selección\n",
    "tiempo_inicial = time()\n",
    "\n",
    "seleccion(arrayRandom)\n",
    "\n",
    "tiempo_final = time()\n",
    "\n",
    "\n",
    "tiempo_ejecucion = tiempo_final - tiempo_inicial\n",
    "\n",
    "print (\"El tiempo de ejecución del algoritmo de selección ha sido:\", tiempo_ejecucion)\n",
    "\n",
    "\n",
    "#Medición algoritmo Burbuja\n",
    "tiempo_inicial = time()\n",
    "\n",
    "burbuja(arrayRandom)\n",
    "\n",
    "tiempo_final = time()\n",
    "\n",
    "\n",
    "tiempo_ejecucion = tiempo_final - tiempo_inicial\n",
    "\n",
    "print (\"El tiempo de ejecución del algoritmo de burbuja ha sido:\", tiempo_ejecucion)"
   ]
  },
  {
   "cell_type": "markdown",
   "metadata": {},
   "source": [
    "#### Ejercicio 3"
   ]
  }
 ],
 "metadata": {
  "kernelspec": {
   "display_name": "Python 3",
   "language": "python",
   "name": "python3"
  },
  "language_info": {
   "codemirror_mode": {
    "name": "ipython",
    "version": 3
   },
   "file_extension": ".py",
   "mimetype": "text/x-python",
   "name": "python",
   "nbconvert_exporter": "python",
   "pygments_lexer": "ipython3",
   "version": "3.6.0"
  }
 },
 "nbformat": 4,
 "nbformat_minor": 2
}
